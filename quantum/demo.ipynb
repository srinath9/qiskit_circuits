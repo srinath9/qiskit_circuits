{
 "cells": [
  {
   "cell_type": "code",
   "execution_count": 1,
   "id": "62f1596e",
   "metadata": {},
   "outputs": [],
   "source": [
    "import qiskit\n"
   ]
  },
  {
   "cell_type": "code",
   "execution_count": 2,
   "id": "1da0ba61",
   "metadata": {},
   "outputs": [
    {
     "data": {
      "image/png": "[encoded data removed]",
      "text/plain": [
       "<Figure size 297.479x204.68 with 1 Axes>"
      ]
     },
     "execution_count": 2,
     "metadata": {},
     "output_type": "execute_result"
    }
   ],
   "source": [
    "circuit = qiskit.QuantumCircuit(2)\n",
    "# print(circuit.h(0))\n",
    "# print(circuit.h(1))\n",
    "\n",
    "\n",
    "circuit.measure_all()\n",
    "circuit.draw(output=\"mpl\")"
   ]
  },
  {
   "cell_type": "code",
   "execution_count": 3,
   "id": "d5ef768f",
   "metadata": {},
   "outputs": [
    {
     "data": {
      "text/plain": [
       "{'00': 8000}"
      ]
     },
     "execution_count": 3,
     "metadata": {},
     "output_type": "execute_result"
    }
   ],
   "source": [
    "from qiskit import QuantumCircuit, execute, BasicAer\n",
    "\n",
    "backend = BasicAer.get_backend('qasm_simulator')\n",
    "\n",
    "job_sim = qiskit.execute(circuit, backend, shots=8000)\n",
    "job_sim.result().get_counts(circuit)"
   ]
  },
  {
   "cell_type": "code",
   "execution_count": null,
   "id": "e3d6dc45",
   "metadata": {},
   "outputs": [],
   "source": []
  }
 ],
 "metadata": {
  "kernelspec": {
   "display_name": "Python 3 (ipykernel)",
   "language": "python",
   "name": "python3"
  },
  "language_info": {
   "codemirror_mode": {
    "name": "ipython",
    "version": 3
   },
   "file_extension": ".py",
   "mimetype": "text/x-python",
   "name": "python",
   "nbconvert_exporter": "python",
   "pygments_lexer": "ipython3",
   "version": "3.8.12"
  }
 },
 "nbformat": 4,
 "nbformat_minor": 5
}
