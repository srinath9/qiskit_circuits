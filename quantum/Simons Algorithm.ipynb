{
 "cells": [
  {
   "cell_type": "code",
   "execution_count": 2,
   "id": "f385e941",
   "metadata": {},
   "outputs": [],
   "source": [
    "from qiskit import IBMQ, BasicAer\n",
    "from qiskit import QuantumCircuit, ClassicalRegister, QuantumRegister, execute\n",
    "\n",
    "qr = QuantumRegister(4)  \n",
    "cr = ClassicalRegister(4)  \n",
    "circuit = QuantumCircuit(qr, cr)\n",
    "\n",
    "circuit.h(qr[0])\n",
    "circuit.h(qr[1])\n",
    "\n",
    "circuit.barrier()\n",
    "\n",
    "circuit.cx(qr[0], qr[2])\n",
    "circuit.cx(qr[1], qr[2])\n",
    "circuit.cx(qr[0], qr[3])\n",
    "circuit.cx(qr[1], qr[3])\n",
    "\n",
    "circuit.barrier()\n",
    "\n",
    "circuit.measure(qr[2], cr[2])\n",
    "circuit.measure(qr[3], cr[3])\n",
    "\n",
    "circuit.barrier()\n",
    "\n",
    "circuit.h(qr[0])\n",
    "circuit.h(qr[1])\n",
    "\n",
    "circuit.barrier()\n",
    "\n",
    "circuit.measure(qr[0], cr[0])\n",
    "circuit.measure(qr[1], cr[1])\n",
    "\n",
    "backend = BasicAer.get_backend('qasm_simulator')\n",
    "shots = 1024\n",
    "\n",
    "\n",
    "def sdotz(a, b): \n",
    "    accum = 0\n",
    "    for i in range(len(a)):\n",
    "        accum += int(a[i]) * int(b[i])\n",
    "    return (accum % 2)\n",
    "\n",
    "\n"
   ]
  },
  {
   "cell_type": "code",
   "execution_count": 5,
   "id": "79fb2324",
   "metadata": {},
   "outputs": [
    {
     "name": "stdout",
     "output_type": "stream",
     "text": [
      "{'00': 494, '11': 530}\n",
      "11, 00, 11.00=0\n",
      "11, 11, 11.11=0\n",
      "{'00': 538, '11': 486}\n",
      "11, 00, 11.00=0\n",
      "11, 11, 11.11=0\n",
      "{'00': 505, '11': 519}\n",
      "11, 00, 11.00=0\n",
      "11, 11, 11.11=0\n",
      "{'11': 512, '00': 512}\n",
      "11, 11, 11.11=0\n",
      "11, 00, 11.00=0\n",
      "{'00': 491, '11': 533}\n",
      "11, 00, 11.00=0\n",
      "11, 11, 11.11=0\n"
     ]
    }
   ],
   "source": [
    "for i in range(5):\n",
    "    results = execute(circuit, backend=backend, shots=shots).result()\n",
    "    answer = results.get_counts()\n",
    "    answer_plot = {}\n",
    "    for measresult in answer.keys():\n",
    "        measresult_input = measresult[2:]\n",
    "        if measresult_input in answer_plot:\n",
    "            answer_plot[measresult_input] += answer[measresult]\n",
    "        else:\n",
    "            answer_plot[measresult_input] = answer[measresult]\n",
    "\n",
    "    print(answer_plot)\n",
    "\n",
    "\n",
    "\n",
    "#     print('s, z, s.z (mod 2)')\n",
    "    for z_rev in answer_plot:\n",
    "        z = z_rev[::-1]\n",
    "        print(f'{11}, {z}, {11}.{z}={sdotz(\"11\",z)}')"
   ]
  }
 ],
 "metadata": {
  "kernelspec": {
   "display_name": "Python 3 (ipykernel)",
   "language": "python",
   "name": "python3"
  },
  "language_info": {
   "codemirror_mode": {
    "name": "ipython",
    "version": 3
   },
   "file_extension": ".py",
   "mimetype": "text/x-python",
   "name": "python",
   "nbconvert_exporter": "python",
   "pygments_lexer": "ipython3",
   "version": "3.8.12"
  }
 },
 "nbformat": 4,
 "nbformat_minor": 5
}
