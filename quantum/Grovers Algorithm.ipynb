{
 "cells": [
  {
   "cell_type": "code",
   "execution_count": 5,
   "id": "17e6a59d",
   "metadata": {},
   "outputs": [],
   "source": [
    "from qiskit import IBMQ, BasicAer\n",
    "from qiskit import QuantumCircuit, ClassicalRegister, QuantumRegister, execute\n",
    "\n",
    "qr = QuantumRegister(3)  \n",
    "cr = ClassicalRegister(3) \n",
    "circuit = QuantumCircuit(qr, cr)\n",
    "\n",
    "circuit.h(qr)\n",
    "circuit.barrier()\n",
    "\n",
    "circuit.cz(qr[2], qr[0])\n",
    "circuit.cz(qr[2], qr[1])\n",
    "\n",
    "circuit.h(qr)\n",
    "circuit.x(qr)\n",
    "circuit.barrier()\n",
    "circuit.h(qr[2])\n",
    "circuit.ccx(qr[0], qr[1], qr[2])\n",
    "circuit.h(qr[2])\n",
    "circuit.barrier()\n",
    "circuit.x(qr)\n",
    "circuit.h(qr)\n",
    "\n",
    "circuit.measure(qr, cr)\n",
    "\n",
    "backend = BasicAer.get_backend('qasm_simulator')\n",
    "shots = 2048\n"
   ]
  },
  {
   "cell_type": "code",
   "execution_count": 8,
   "id": "2b2e0476",
   "metadata": {},
   "outputs": [
    {
     "name": "stdout",
     "output_type": "stream",
     "text": [
      "{'101': 1019, '110': 1029}\n",
      "{'110': 542, '101': 482}\n",
      "{'110': 325, '101': 357}\n",
      "{'110': 255, '101': 257}\n"
     ]
    }
   ],
   "source": [
    "for i in range(1,5):\n",
    "    results = execute(circuit, backend=backend, shots=shots//i).result()\n",
    "    answer = results.get_counts()\n",
    "    print(answer)"
   ]
  }
 ],
 "metadata": {
  "kernelspec": {
   "display_name": "Python 3 (ipykernel)",
   "language": "python",
   "name": "python3"
  },
  "language_info": {
   "codemirror_mode": {
    "name": "ipython",
    "version": 3
   },
   "file_extension": ".py",
   "mimetype": "text/x-python",
   "name": "python",
   "nbconvert_exporter": "python",
   "pygments_lexer": "ipython3",
   "version": "3.8.12"
  }
 },
 "nbformat": 4,
 "nbformat_minor": 5
}
